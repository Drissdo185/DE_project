{
 "cells": [
  {
   "cell_type": "code",
   "execution_count": 1,
   "metadata": {},
   "outputs": [],
   "source": [
    "from pyspark.sql import SparkSession"
   ]
  },
  {
   "cell_type": "code",
   "execution_count": 2,
   "metadata": {},
   "outputs": [
    {
     "name": "stdout",
     "output_type": "stream",
     "text": [
      "24/05/31 15:05:29 WARN Utils: Your hostname, datdt resolves to a loopback address: 127.0.1.1; using 192.168.2.12 instead (on interface wlp0s20f3)\n",
      "24/05/31 15:05:29 WARN Utils: Set SPARK_LOCAL_IP if you need to bind to another address\n",
      ":: loading settings :: url = jar:file:/home/datdt/anaconda3/envs/de/lib/python3.9/site-packages/pyspark/jars/ivy-2.5.1.jar!/org/apache/ivy/core/settings/ivysettings.xml\n"
     ]
    },
    {
     "name": "stderr",
     "output_type": "stream",
     "text": [
      "Ivy Default Cache set to: /home/datdt/.ivy2/cache\n",
      "The jars for the packages stored in: /home/datdt/.ivy2/jars\n",
      "org.apache.hadoop#hadoop-aws added as a dependency\n",
      "com.amazonaws#aws-java-sdk-bundle added as a dependency\n",
      ":: resolving dependencies :: org.apache.spark#spark-submit-parent-e2195a6c-7b21-4eb9-be77-7538feeaa8c3;1.0\n",
      "\tconfs: [default]\n",
      "\tfound org.apache.hadoop#hadoop-aws;3.3.1 in central\n",
      "\tfound com.amazonaws#aws-java-sdk-bundle;1.11.901 in central\n",
      "\tfound org.wildfly.openssl#wildfly-openssl;1.0.7.Final in central\n",
      ":: resolution report :: resolve 197ms :: artifacts dl 7ms\n",
      "\t:: modules in use:\n",
      "\tcom.amazonaws#aws-java-sdk-bundle;1.11.901 from central in [default]\n",
      "\torg.apache.hadoop#hadoop-aws;3.3.1 from central in [default]\n",
      "\torg.wildfly.openssl#wildfly-openssl;1.0.7.Final from central in [default]\n",
      "\t:: evicted modules:\n",
      "\tcom.amazonaws#aws-java-sdk-bundle;1.11.375 by [com.amazonaws#aws-java-sdk-bundle;1.11.901] in [default]\n",
      "\t---------------------------------------------------------------------\n",
      "\t|                  |            modules            ||   artifacts   |\n",
      "\t|       conf       | number| search|dwnlded|evicted|| number|dwnlded|\n",
      "\t---------------------------------------------------------------------\n",
      "\t|      default     |   4   |   0   |   0   |   1   ||   3   |   0   |\n",
      "\t---------------------------------------------------------------------\n",
      ":: retrieving :: org.apache.spark#spark-submit-parent-e2195a6c-7b21-4eb9-be77-7538feeaa8c3\n",
      "\tconfs: [default]\n",
      "\t0 artifacts copied, 3 already retrieved (0kB/6ms)\n"
     ]
    },
    {
     "name": "stdout",
     "output_type": "stream",
     "text": [
      "24/05/31 15:05:30 WARN NativeCodeLoader: Unable to load native-hadoop library for your platform... using builtin-java classes where applicable\n"
     ]
    },
    {
     "name": "stderr",
     "output_type": "stream",
     "text": [
      "Setting default log level to \"WARN\".\n",
      "To adjust logging level use sc.setLogLevel(newLevel). For SparkR, use setLogLevel(newLevel).\n"
     ]
    }
   ],
   "source": [
    "spark = (SparkSession.builder.master(\"local\")\n",
    "             .appName(\"Bronze to Silver\")\n",
    "             .config(\"spark.jars.packages\", \"org.apache.hadoop:hadoop-aws:3.3.1,com.amazonaws:aws-java-sdk-bundle:1.11.375\")\n",
    "             .config(\"spark.hadoop.fs.s3a.access.key\", \"minio_access_key\")\n",
    "             .config(\"spark.hadoop.fs.s3a.secret.key\", \"minio_secret_key\")\n",
    "             .config(\"spark.hadoop.fs.s3a.path.style.access\", \"true\")\n",
    "             .config(\"spark.hadoop.fs.s3a.impl\", \"org.apache.hadoop.fs.s3a.S3AFileSystem\")\n",
    "             .config(\"spark.hadoop.fs.s3a.endpoint\", \"http://localhost:9000\")\n",
    "             .getOrCreate())\n"
   ]
  },
  {
   "cell_type": "code",
   "execution_count": 3,
   "metadata": {},
   "outputs": [
    {
     "name": "stdout",
     "output_type": "stream",
     "text": [
      "24/05/31 15:05:32 WARN MetricsConfig: Cannot locate configuration: tried hadoop-metrics2-s3a-file-system.properties,hadoop-metrics2.properties\n",
      "+---+-------------+--------+---------+-------+-------+-------+----+---------+---+-----+--------+--------+-----+--------+--------+\n",
      "|age|          job| marital|education|default|balance|housing|loan|  contact|day|month|duration|campaign|pdays|previous|poutcome|\n",
      "+---+-------------+--------+---------+-------+-------+-------+----+---------+---+-----+--------+--------+-----+--------+--------+\n",
      "| 19|self-employed|divorced|  unknown|    yes|  -2820|    yes| yes| cellular| 31|  dec|    1933|       4|   15|       3| failure|\n",
      "| 79| entrepreneur|  single|  primary|    yes|  -5277|    yes| yes|  unknown| 23|  aug|    1919|       8|    3|       7|   other|\n",
      "| 71| entrepreneur| married|secondary|    yes|  -6381|    yes|  no|  unknown| 10|  sep|     332|       9|   10|       7| failure|\n",
      "| 78|      student|  single|secondary|    yes|   9437|    yes|  no|telephone|  9|  mar|    2194|       5|    3|      10| unknown|\n",
      "| 52|       admin.|  single| tertiary|    yes|   8987|    yes| yes|  unknown| 11|  oct|    2841|       7|   27|      10| success|\n",
      "| 49|  blue-collar|  single|  unknown|     no|    458|    yes| yes|  unknown|  7|  oct|    3370|      10|   18|       0| success|\n",
      "| 79|      student|divorced|secondary|    yes|   3930|    yes|  no| cellular|  8|  dec|    2069|       5|   30|       7| unknown|\n",
      "| 70|      student|divorced|  unknown|     no|  -2622|    yes| yes| cellular| 27|  sep|    2971|       9|   15|       0| unknown|\n",
      "| 29|      student|  single|  unknown|     no|   1395|     no|  no| cellular| 16|  dec|    1080|       5|   12|       1|   other|\n",
      "| 64|      student|  single|  unknown|     no|  -2714|    yes| yes| cellular| 20|  feb|    1712|       8|   23|       4| success|\n",
      "| 77|    housemaid|  single|secondary|     no|   9755|    yes| yes|telephone|  1|  nov|    1755|       1|   -1|       4| failure|\n",
      "| 24|   unemployed|divorced|secondary|    yes|    851|     no| yes|telephone| 23|  apr|    1402|       9|   25|       9| failure|\n",
      "| 38|self-employed| married|secondary|    yes|   7011|    yes|  no| cellular| 23|  jul|    3260|       8|   30|       1|   other|\n",
      "| 29|      student|divorced| tertiary|    yes|  -5891|     no| yes| cellular| 30|  apr|     802|       8|   17|       4|   other|\n",
      "| 80| entrepreneur|divorced|  unknown|     no|  -7156|    yes| yes|telephone| 17|  may|    2457|       1|   19|       9|   other|\n",
      "| 33|      unknown|divorced|  primary|     no|    930|     no|  no|telephone| 24|  sep|    2975|       9|    1|       9| success|\n",
      "| 44|    housemaid|  single|  primary|    yes|   2617|     no| yes|  unknown| 27|  nov|    3090|       7|   18|       3| failure|\n",
      "| 55|      student|divorced|  unknown|    yes|   1575|    yes| yes|telephone| 20|  oct|     290|      10|   -1|       5| success|\n",
      "| 69|      unknown| married|  unknown|    yes|  -4863|    yes| yes| cellular| 29|  aug|     164|      10|    6|       0| unknown|\n",
      "| 74|     services| married|  unknown|    yes|  -7030|     no|  no| cellular| 19|  jun|    2985|       1|   25|       4| failure|\n",
      "+---+-------------+--------+---------+-------+-------+-------+----+---------+---+-----+--------+--------+-----+--------+--------+\n",
      "only showing top 20 rows\n",
      "\n"
     ]
    }
   ],
   "source": [
    "df = spark.read.parquet(f\"s3a://bronze-data/raw_data\")\n",
    "df.show()"
   ]
  },
  {
   "cell_type": "code",
   "execution_count": 4,
   "metadata": {},
   "outputs": [
    {
     "name": "stdout",
     "output_type": "stream",
     "text": [
      "+---+-------------+--------+---------+-------+-------+-------+----+---------+---+-----+--------+--------+-----+--------+--------+\n",
      "|age|          job| marital|education|default|balance|housing|loan|  contact|day|month|duration|campaign|pdays|previous|poutcome|\n",
      "+---+-------------+--------+---------+-------+-------+-------+----+---------+---+-----+--------+--------+-----+--------+--------+\n",
      "| 19|self-employed|divorced|  unknown|      1|  -2820|    yes| yes| cellular| 31|  dec|    1933|       4|   15|       3| failure|\n",
      "| 79| entrepreneur|  single|  primary|      1|  -5277|    yes| yes|  unknown| 23|  aug|    1919|       8|    3|       7|   other|\n",
      "| 71| entrepreneur| married|secondary|      1|  -6381|    yes|  no|  unknown| 10|  sep|     332|       9|   10|       7| failure|\n",
      "| 78|      student|  single|secondary|      1|   9437|    yes|  no|telephone|  9|  mar|    2194|       5|    3|      10| unknown|\n",
      "| 52|       admin.|  single| tertiary|      1|   8987|    yes| yes|  unknown| 11|  oct|    2841|       7|   27|      10| success|\n",
      "| 49|  blue-collar|  single|  unknown|      0|    458|    yes| yes|  unknown|  7|  oct|    3370|      10|   18|       0| success|\n",
      "| 79|      student|divorced|secondary|      1|   3930|    yes|  no| cellular|  8|  dec|    2069|       5|   30|       7| unknown|\n",
      "| 70|      student|divorced|  unknown|      0|  -2622|    yes| yes| cellular| 27|  sep|    2971|       9|   15|       0| unknown|\n",
      "| 29|      student|  single|  unknown|      0|   1395|     no|  no| cellular| 16|  dec|    1080|       5|   12|       1|   other|\n",
      "| 64|      student|  single|  unknown|      0|  -2714|    yes| yes| cellular| 20|  feb|    1712|       8|   23|       4| success|\n",
      "| 77|    housemaid|  single|secondary|      0|   9755|    yes| yes|telephone|  1|  nov|    1755|       1|   -1|       4| failure|\n",
      "| 24|   unemployed|divorced|secondary|      1|    851|     no| yes|telephone| 23|  apr|    1402|       9|   25|       9| failure|\n",
      "| 38|self-employed| married|secondary|      1|   7011|    yes|  no| cellular| 23|  jul|    3260|       8|   30|       1|   other|\n",
      "| 29|      student|divorced| tertiary|      1|  -5891|     no| yes| cellular| 30|  apr|     802|       8|   17|       4|   other|\n",
      "| 80| entrepreneur|divorced|  unknown|      0|  -7156|    yes| yes|telephone| 17|  may|    2457|       1|   19|       9|   other|\n",
      "| 33|      unknown|divorced|  primary|      0|    930|     no|  no|telephone| 24|  sep|    2975|       9|    1|       9| success|\n",
      "| 44|    housemaid|  single|  primary|      1|   2617|     no| yes|  unknown| 27|  nov|    3090|       7|   18|       3| failure|\n",
      "| 55|      student|divorced|  unknown|      1|   1575|    yes| yes|telephone| 20|  oct|     290|      10|   -1|       5| success|\n",
      "| 69|      unknown| married|  unknown|      1|  -4863|    yes| yes| cellular| 29|  aug|     164|      10|    6|       0| unknown|\n",
      "| 74|     services| married|  unknown|      1|  -7030|     no|  no| cellular| 19|  jun|    2985|       1|   25|       4| failure|\n",
      "+---+-------------+--------+---------+-------+-------+-------+----+---------+---+-----+--------+--------+-----+--------+--------+\n",
      "only showing top 20 rows\n",
      "\n"
     ]
    }
   ],
   "source": [
    "from pyspark.sql.functions import when\n",
    "\n",
    "df = df.withColumn('default', when(df['default'] == 'yes', 1).otherwise(0))\n",
    "df.show()"
   ]
  },
  {
   "cell_type": "code",
   "execution_count": null,
   "metadata": {},
   "outputs": [],
   "source": [
    "\n"
   ]
  },
  {
   "cell_type": "code",
   "execution_count": null,
   "metadata": {},
   "outputs": [],
   "source": []
  }
 ],
 "metadata": {
  "kernelspec": {
   "display_name": "de",
   "language": "python",
   "name": "python3"
  },
  "language_info": {
   "codemirror_mode": {
    "name": "ipython",
    "version": 3
   },
   "file_extension": ".py",
   "mimetype": "text/x-python",
   "name": "python",
   "nbconvert_exporter": "python",
   "pygments_lexer": "ipython3",
   "version": "3.9.19"
  }
 },
 "nbformat": 4,
 "nbformat_minor": 2
}
